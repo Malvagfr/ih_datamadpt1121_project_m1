{
 "cells": [
  {
   "cell_type": "markdown",
   "id": "229c09d8",
   "metadata": {},
   "source": [
    "### Importing libraries"
   ]
  },
  {
   "cell_type": "code",
   "execution_count": 11,
   "id": "29cb0345",
   "metadata": {},
   "outputs": [],
   "source": [
    "import numpy as np\n",
    "import pandas as pd\n",
    "import geopandas as gpd\n",
    "from shapely.geometry import Point"
   ]
  },
  {
   "cell_type": "markdown",
   "id": "d6a9f5b7",
   "metadata": {},
   "source": [
    "### Extracting raw data"
   ]
  },
  {
   "cell_type": "code",
   "execution_count": 50,
   "id": "d09b4a88",
   "metadata": {},
   "outputs": [],
   "source": [
    "interest_points=pd.read_csv('../data/300356-0-monumentos-ciudad-madrid.csv', sep=';',encoding = \"ISO-8859-1\")"
   ]
  },
  {
   "cell_type": "code",
   "execution_count": 51,
   "id": "fcc45c61",
   "metadata": {},
   "outputs": [],
   "source": [
    "pd.set_option('display.max_columns', None)"
   ]
  },
  {
   "cell_type": "code",
   "execution_count": 125,
   "id": "6422efad",
   "metadata": {},
   "outputs": [],
   "source": [
    "bicimad_stations=pd.read_csv('../data/bicimad_stations.csv')"
   ]
  },
  {
   "cell_type": "markdown",
   "id": "410926a1",
   "metadata": {},
   "source": [
    "### Cleaning datasets"
   ]
  },
  {
   "cell_type": "code",
   "execution_count": 54,
   "id": "f8d59281",
   "metadata": {},
   "outputs": [],
   "source": [
    "#Taking only interesting columns\n",
    "interest_points=interest_points[[\"NOMBRE\",\"NOMBRE-VIA\",\"CLASE-VIAL\",\"NUM\",\"LATITUD\",\"LONGITUD\"]]"
   ]
  },
  {
   "cell_type": "code",
   "execution_count": 126,
   "id": "7d900a86",
   "metadata": {},
   "outputs": [],
   "source": [
    "bicimad_stations=bicimad_stations[[\"address\",\"geometry_coordinates\",\"name\"]]"
   ]
  },
  {
   "cell_type": "code",
   "execution_count": 129,
   "id": "b1f6c5ae",
   "metadata": {},
   "outputs": [],
   "source": [
    "bicimad_stations[['LATITUD', 'LONGITUD']] = bicimad_stations['geometry_coordinates'].str.split(',', 1, expand=True)"
   ]
  },
  {
   "cell_type": "code",
   "execution_count": 133,
   "id": "f1477008",
   "metadata": {},
   "outputs": [
    {
     "name": "stderr",
     "output_type": "stream",
     "text": [
      "/Users/malva/miniconda3/envs/project-m1/lib/python3.7/site-packages/ipykernel_launcher.py:1: FutureWarning: The default value of regex will change from True to False in a future version. In addition, single character regular expressions will *not* be treated as literal strings when regex=True.\n",
      "  \"\"\"Entry point for launching an IPython kernel.\n"
     ]
    }
   ],
   "source": [
    "bicimad_stations[\"LATITUD\"]=bicimad_stations[\"LATITUD\"].str.replace(\"[\",\"\")"
   ]
  },
  {
   "cell_type": "code",
   "execution_count": 135,
   "id": "3e8dd112",
   "metadata": {},
   "outputs": [
    {
     "name": "stderr",
     "output_type": "stream",
     "text": [
      "/Users/malva/miniconda3/envs/project-m1/lib/python3.7/site-packages/ipykernel_launcher.py:1: FutureWarning: The default value of regex will change from True to False in a future version. In addition, single character regular expressions will *not* be treated as literal strings when regex=True.\n",
      "  \"\"\"Entry point for launching an IPython kernel.\n"
     ]
    }
   ],
   "source": [
    "bicimad_stations[\"LONGITUD\"]=bicimad_stations[\"LONGITUD\"].str.replace(\"[\",\"\")"
   ]
  },
  {
   "cell_type": "code",
   "execution_count": 116,
   "id": "ba73cc1d",
   "metadata": {},
   "outputs": [],
   "source": [
    "bicimad_stations['LATITUD'] = bicimad_stations['LATITUD'].map(lambda x: x.lstrip('[').rstrip('aAbBcC'))"
   ]
  },
  {
   "cell_type": "code",
   "execution_count": 139,
   "id": "9c6d43cd",
   "metadata": {},
   "outputs": [],
   "source": [
    "bicimad_stations['LONGITUD'] = bicimad_stations['LONGITUD'].map(lambda x: x.lstrip(']').rstrip('aAbBcC'))"
   ]
  },
  {
   "cell_type": "code",
   "execution_count": 140,
   "id": "648bb486",
   "metadata": {},
   "outputs": [
    {
     "data": {
      "text/html": [
       "<div>\n",
       "<style scoped>\n",
       "    .dataframe tbody tr th:only-of-type {\n",
       "        vertical-align: middle;\n",
       "    }\n",
       "\n",
       "    .dataframe tbody tr th {\n",
       "        vertical-align: top;\n",
       "    }\n",
       "\n",
       "    .dataframe thead th {\n",
       "        text-align: right;\n",
       "    }\n",
       "</style>\n",
       "<table border=\"1\" class=\"dataframe\">\n",
       "  <thead>\n",
       "    <tr style=\"text-align: right;\">\n",
       "      <th></th>\n",
       "      <th>address</th>\n",
       "      <th>geometry_coordinates</th>\n",
       "      <th>name</th>\n",
       "      <th>LATITUD</th>\n",
       "      <th>LONGITUD</th>\n",
       "    </tr>\n",
       "  </thead>\n",
       "  <tbody>\n",
       "    <tr>\n",
       "      <th>0</th>\n",
       "      <td>Puerta del Sol nº 1</td>\n",
       "      <td>[-3.7018341, 40.4172137]</td>\n",
       "      <td>Puerta del Sol A</td>\n",
       "      <td>-3.7018341</td>\n",
       "      <td>40.4172137]</td>\n",
       "    </tr>\n",
       "    <tr>\n",
       "      <th>1</th>\n",
       "      <td>Puerta del Sol nº 1</td>\n",
       "      <td>[-3.701602938060457, 40.41731271011562]</td>\n",
       "      <td>Puerta del Sol B</td>\n",
       "      <td>-3.701602938060457</td>\n",
       "      <td>40.41731271011562]</td>\n",
       "    </tr>\n",
       "    <tr>\n",
       "      <th>2</th>\n",
       "      <td>Calle Miguel Moya nº 1</td>\n",
       "      <td>[-3.7058415, 40.4205886]</td>\n",
       "      <td>Miguel Moya</td>\n",
       "      <td>-3.7058415</td>\n",
       "      <td>40.4205886]</td>\n",
       "    </tr>\n",
       "    <tr>\n",
       "      <th>3</th>\n",
       "      <td>Plaza del Conde del Valle de Súchil nº 3</td>\n",
       "      <td>[-3.7069171, 40.4302937]</td>\n",
       "      <td>Plaza Conde Suchil</td>\n",
       "      <td>-3.7069171</td>\n",
       "      <td>40.4302937]</td>\n",
       "    </tr>\n",
       "    <tr>\n",
       "      <th>4</th>\n",
       "      <td>Calle Manuela Malasaña nº 5</td>\n",
       "      <td>[-3.7025875, 40.4285524]</td>\n",
       "      <td>Malasaña</td>\n",
       "      <td>-3.7025875</td>\n",
       "      <td>40.4285524]</td>\n",
       "    </tr>\n",
       "    <tr>\n",
       "      <th>...</th>\n",
       "      <td>...</td>\n",
       "      <td>...</td>\n",
       "      <td>...</td>\n",
       "      <td>...</td>\n",
       "      <td>...</td>\n",
       "    </tr>\n",
       "    <tr>\n",
       "      <th>259</th>\n",
       "      <td>Avenida de la Complutense (Metro Ciudad Univer...</td>\n",
       "      <td>[-3.72699, 40.44375]</td>\n",
       "      <td>Ciudad Universitaria 1</td>\n",
       "      <td>-3.72699</td>\n",
       "      <td>40.44375]</td>\n",
       "    </tr>\n",
       "    <tr>\n",
       "      <th>260</th>\n",
       "      <td>Avenida de la Complutense (Metro Ciudad Univer...</td>\n",
       "      <td>[-3.72693, 40.44342]</td>\n",
       "      <td>Ciudad Universitaria 2</td>\n",
       "      <td>-3.72693</td>\n",
       "      <td>40.44342]</td>\n",
       "    </tr>\n",
       "    <tr>\n",
       "      <th>261</th>\n",
       "      <td>Calle José Antonio Novais frente al nº 12</td>\n",
       "      <td>[-3.7272945, 40.4483322]</td>\n",
       "      <td>Facultad Biología</td>\n",
       "      <td>-3.7272945</td>\n",
       "      <td>40.4483322]</td>\n",
       "    </tr>\n",
       "    <tr>\n",
       "      <th>262</th>\n",
       "      <td>Avenida Complutense nº 23</td>\n",
       "      <td>[-3.72937, 40.45109]</td>\n",
       "      <td>Facultad Derecho</td>\n",
       "      <td>-3.72937</td>\n",
       "      <td>40.45109]</td>\n",
       "    </tr>\n",
       "    <tr>\n",
       "      <th>263</th>\n",
       "      <td>Calle Zurbano nº 90</td>\n",
       "      <td>[-3.69281, 40.43837]</td>\n",
       "      <td>Zurbano</td>\n",
       "      <td>-3.69281</td>\n",
       "      <td>40.43837]</td>\n",
       "    </tr>\n",
       "  </tbody>\n",
       "</table>\n",
       "<p>264 rows × 5 columns</p>\n",
       "</div>"
      ],
      "text/plain": [
       "                                               address  \\\n",
       "0                                  Puerta del Sol nº 1   \n",
       "1                                  Puerta del Sol nº 1   \n",
       "2                               Calle Miguel Moya nº 1   \n",
       "3             Plaza del Conde del Valle de Súchil nº 3   \n",
       "4                          Calle Manuela Malasaña nº 5   \n",
       "..                                                 ...   \n",
       "259  Avenida de la Complutense (Metro Ciudad Univer...   \n",
       "260  Avenida de la Complutense (Metro Ciudad Univer...   \n",
       "261          Calle José Antonio Novais frente al nº 12   \n",
       "262                          Avenida Complutense nº 23   \n",
       "263                                Calle Zurbano nº 90   \n",
       "\n",
       "                        geometry_coordinates                    name  \\\n",
       "0                   [-3.7018341, 40.4172137]        Puerta del Sol A   \n",
       "1    [-3.701602938060457, 40.41731271011562]        Puerta del Sol B   \n",
       "2                   [-3.7058415, 40.4205886]             Miguel Moya   \n",
       "3                   [-3.7069171, 40.4302937]      Plaza Conde Suchil   \n",
       "4                   [-3.7025875, 40.4285524]                Malasaña   \n",
       "..                                       ...                     ...   \n",
       "259                     [-3.72699, 40.44375]  Ciudad Universitaria 1   \n",
       "260                     [-3.72693, 40.44342]  Ciudad Universitaria 2   \n",
       "261                 [-3.7272945, 40.4483322]       Facultad Biología   \n",
       "262                     [-3.72937, 40.45109]        Facultad Derecho   \n",
       "263                     [-3.69281, 40.43837]                 Zurbano   \n",
       "\n",
       "                LATITUD             LONGITUD  \n",
       "0            -3.7018341          40.4172137]  \n",
       "1    -3.701602938060457   40.41731271011562]  \n",
       "2            -3.7058415          40.4205886]  \n",
       "3            -3.7069171          40.4302937]  \n",
       "4            -3.7025875          40.4285524]  \n",
       "..                  ...                  ...  \n",
       "259            -3.72699            40.44375]  \n",
       "260            -3.72693            40.44342]  \n",
       "261          -3.7272945          40.4483322]  \n",
       "262            -3.72937            40.45109]  \n",
       "263            -3.69281            40.43837]  \n",
       "\n",
       "[264 rows x 5 columns]"
      ]
     },
     "execution_count": 140,
     "metadata": {},
     "output_type": "execute_result"
    }
   ],
   "source": [
    "bicimad_stations"
   ]
  },
  {
   "cell_type": "code",
   "execution_count": null,
   "id": "3ede5868",
   "metadata": {},
   "outputs": [],
   "source": []
  }
 ],
 "metadata": {
  "kernelspec": {
   "display_name": "Python [conda env:project-m1]",
   "language": "python",
   "name": "conda-env-project-m1-py"
  },
  "language_info": {
   "codemirror_mode": {
    "name": "ipython",
    "version": 3
   },
   "file_extension": ".py",
   "mimetype": "text/x-python",
   "name": "python",
   "nbconvert_exporter": "python",
   "pygments_lexer": "ipython3",
   "version": "3.7.11"
  }
 },
 "nbformat": 4,
 "nbformat_minor": 5
}
